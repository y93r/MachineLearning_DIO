{
  "nbformat": 4,
  "nbformat_minor": 0,
  "metadata": {
    "colab": {
      "name": "Exemplo 2 - Deep Learning do 0.ipynb",
      "provenance": [],
      "authorship_tag": "ABX9TyPPxjIUezn11ig+fW3QfX7b",
      "include_colab_link": true
    },
    "kernelspec": {
      "name": "python3",
      "display_name": "Python 3"
    },
    "language_info": {
      "name": "python"
    }
  },
  "cells": [
    {
      "cell_type": "markdown",
      "metadata": {
        "id": "view-in-github",
        "colab_type": "text"
      },
      "source": [
        "<a href=\"https://colab.research.google.com/github/y93r/MachineLearning_DIO/blob/main/Exemplo_2_Deep_Learning_do_0.ipynb\" target=\"_parent\"><img src=\"https://colab.research.google.com/assets/colab-badge.svg\" alt=\"Open In Colab\"/></a>"
      ]
    },
    {
      "cell_type": "markdown",
      "source": [
        "Importando bibliotecas necessárias para criar rede neural"
      ],
      "metadata": {
        "id": "Fp6wJbiG4NG4"
      }
    },
    {
      "cell_type": "code",
      "execution_count": 20,
      "metadata": {
        "id": "7ZlAR_2M2vUs"
      },
      "outputs": [],
      "source": [
        "import numpy as np\n",
        "import torch\n",
        "import torch.nn.functional as F\n",
        "import torchvision\n",
        "import matplotlib.pyplot as plt\n",
        "from time import time\n",
        "from torchvision import datasets, transforms\n",
        "from torch import nn, optim"
      ]
    },
    {
      "cell_type": "code",
      "source": [
        ""
      ],
      "metadata": {
        "id": "XBxrH_nz4YQP"
      },
      "execution_count": 20,
      "outputs": []
    },
    {
      "cell_type": "code",
      "source": [
        "transform = transforms.ToTensor() #definindo a conversão de img para tensor\n",
        "\n",
        "trainset = datasets.MNIST('./ MNIST_data/',download=True,train=True,transform=transform) #Carrega a parte de treino do dataset\n",
        "trainloader = torch.utils.data.DataLoader (trainset, batch_size=64, shuffle=True) #Cria um buffer para pegar os dados por parte \n",
        "\n",
        "valset = datasets.MNIST('./ MNIST_data/',download=True,train=False,transform=transform)#Carrega a parte de validação\n",
        "valloader = torch.utils.data.DataLoader(valset, batch_size=64, shuffle=True) #Cria um buffer para pegar os dados partes"
      ],
      "metadata": {
        "id": "oxmw6EMW61T8"
      },
      "execution_count": 21,
      "outputs": []
    },
    {
      "cell_type": "code",
      "source": [
        "dataiter = iter(trainloader)\n",
        "imagens,etiquetas = dataiter.next()\n",
        "plt.imshow(imagens[0].numpy().squeeze(),cmap='gray_r');"
      ],
      "metadata": {
        "colab": {
          "base_uri": "https://localhost:8080/",
          "height": 265
        },
        "id": "vItLB5eU8e1m",
        "outputId": "a350ed46-6890-4223-d69d-2b342e5b3987"
      },
      "execution_count": 22,
      "outputs": [
        {
          "output_type": "display_data",
          "data": {
            "text/plain": [
              "<Figure size 432x288 with 1 Axes>"
            ],
            "image/png": "[encoded data removed]"
          },
          "metadata": {
            "needs_background": "light"
          }
        }
      ]
    },
    {
      "cell_type": "code",
      "source": [
        "print(imagens[0].shape) #para verificar as dimensões do tensor de cada imagem\n",
        "print(etiquetas[0].shape) #para verificar as dimensões do tensor de cada etiqueta"
      ],
      "metadata": {
        "colab": {
          "base_uri": "https://localhost:8080/"
        },
        "id": "9J5SmmFA8ySM",
        "outputId": "74bd7757-5cd8-4240-9466-020288f94bf2"
      },
      "execution_count": 23,
      "outputs": [
        {
          "output_type": "stream",
          "name": "stdout",
          "text": [
            "torch.Size([1, 28, 28])\n",
            "torch.Size([])\n"
          ]
        }
      ]
    },
    {
      "cell_type": "code",
      "source": [
        "class Modelo(nn.Module):\n",
        "   def __init__(self):\n",
        "        super(Modelo,self).__init__()\n",
        "        self.lineari=nn.Linear(28*28,128) #camada de entrada,784 neurônios que se ligam a 128\n",
        "        self.linear2=nn.Linear(128,64) #camada interna1,128 neurônios que se ligam a 64\n",
        "        self.linear3=nn.Linear(64,10) #camada interna2,64 neurônios que se ligam a 10\n",
        "        # para a camada de saida não é necessário definir nada pois só precisamos pegar o output da camada interna2\n",
        "   def forward(self,X):\n",
        "        X=F.relu(self.linear1(X)) #função de ativação da camada de entrada paraacamada interna1\n",
        "        X=F.relu(self.linear2(X)) #função de ativação da camada interna1 para a camada interna2\n",
        "        X=self.linear3(X) #função de ativação da camada interna2 para a camada de saída,nesse caso f(x)=x\n",
        "        return F.log_softmax(X,dim=1) #dados utilizados para calcular a perda"
      ],
      "metadata": {
        "id": "UKzMSqAl9OLB"
      },
      "execution_count": 24,
      "outputs": []
    },
    {
      "cell_type": "code",
      "source": [
        "def treino(modelo, trainloader, device):\n",
        "\n",
        "  otimizador=optim.SGD(modelo.parameters(),lr=0.01,momentum=0.5) #define a política de atualização dos pesos\n",
        "  inicio=time() #timer para sabermos quanto tempo levou o treino\n",
        "\n",
        "  criterio = nn.NLLLoss() #definindo o criterio para calcular a perda\n",
        "  EPOCHS=10 #numero de epochs que o algoritmo rodará\n",
        "  modelo.train() #ativando o modo de treinamento do modelo\n",
        "                                                                                                                                        \n",
        "  for epoch in range(EPOCHS):\n",
        "    perda_acumulada= 0 #inicialização da perda acumulada da epoch em questão\n",
        "\n",
        "    for imagens,etiquetas in trainloader:\n",
        "        imagens=imagens.view(imagens.shape[0],-1) #convertendo as imagens para\"vetores\"de 28*28 casas para ficarem compatíveis com a\n",
        "        otimizador.zero_grad() #zerando os gradientes por conta do ciclo anterior\n",
        "\n",
        "        output=modelo(imagens.to(device)) #colocando os dados no modelo\n",
        "        perda_instantanea=criterio(output,etiquetas.to(device)) #calculandoaperda da epoch em questão\n",
        "        \n",
        "        perda_instantanea.backward() #back propagation a partir da perda\n",
        "        otimizador.step() #atualizando os pesos e a bias\n",
        "        perda_acumulada += perda_instantanea.item() #atualização da perda acumulada\n",
        "\n",
        "    else:\n",
        "      print(\"Epoch{} - Perda resultante:{}\".format(epoch+1,perda_acumulada/len(trainloader)))\n",
        "  print(\"\\nTempo de treino(em minutos)= \",(time()-inicio)/60)"
      ],
      "metadata": {
        "id": "z2NTF9IjAICu"
      },
      "execution_count": 25,
      "outputs": []
    },
    {
      "cell_type": "code",
      "source": [
        "def validacao(modelo,valloader,device):\n",
        "    conta_corretas,conta_todas = 0, 0\n",
        "    for imagens,etiquetas in valloader:\n",
        "      for i in range(len(etiquetas)):\n",
        "        img = imagens[i].view(1,784)\n",
        "        #desativar o autograd para acelerar a validação.Grafos computacionais dinámicos tem um custo alto de processamento\n",
        "        with torch.no_grad():\n",
        "            logps =  modelo(img.to(device)) #output do modelo en escala logaritmica\n",
        "\n",
        "        ps=torch.exp(logps) #converte output para escala normal(lembrando que é um tensor)\n",
        "        probab=list(ps.cpu().numpy()[0])\n",
        "        etiqueta_pred=probab.index(max(probab)) #converte o tensor em um número,no caso,o número que o modelo previu\n",
        "        etiqueta_certa = etiquetas.numpy()[i]\n",
        "        if(etiqueta_certa == etiqueta_pred): #compara a previsão com o valor correto\n",
        "          conta_corretas += 1\n",
        "        conta_todas += 1\n",
        "    print(\"Total de imagens testadas = \",conta_todas)\n",
        "    print(\"\\nPrecisão do modelo = {}%\".format(conta_corretas*100/conta_todas))\n",
        "                                                   "
      ],
      "metadata": {
        "id": "kO6gsL3yDozJ"
      },
      "execution_count": 26,
      "outputs": []
    },
    {
      "cell_type": "code",
      "source": [
        "modelo = Modelo()\n",
        "device = torch.device(\"cuda\" if torch.cuda.is_available() else \"cpu\")\n",
        "modelo.to(device)"
      ],
      "metadata": {
        "colab": {
          "base_uri": "https://localhost:8080/"
        },
        "id": "0NX0niWXGC3B",
        "outputId": "ac5e52f9-7328-404d-af8c-dc597d551048"
      },
      "execution_count": 27,
      "outputs": [
        {
          "output_type": "execute_result",
          "data": {
            "text/plain": [
              "Modelo(\n",
              "  (lineari): Linear(in_features=784, out_features=128, bias=True)\n",
              "  (linear2): Linear(in_features=128, out_features=64, bias=True)\n",
              "  (linear3): Linear(in_features=64, out_features=10, bias=True)\n",
              ")"
            ]
          },
          "metadata": {},
          "execution_count": 27
        }
      ]
    }
  ]
}